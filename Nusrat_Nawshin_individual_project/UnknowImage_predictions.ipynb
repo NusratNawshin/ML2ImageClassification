{
  "cells": [
    {
      "cell_type": "code",
      "source": [
        "\n",
        "!pip install gdown==4.6.0\n",
        "import gdown\n",
        "import zipfile\n",
        "!pip install --upgrade --no-cache-dir gdown\n",
        "# https://drive.google.com/file/d/1czdDpOqEvJNrCePToNNlhki0NgJwuXpD\n",
        "!gdown --no-cookies https://drive.google.com/uc?id=1Uu3JPyscmPX_QIqmaEKeu9oXaN1nSXud"
      ],
      "metadata": {
        "colab": {
          "base_uri": "https://localhost:8080/"
        },
        "id": "HafwOMNeEDxl",
        "outputId": "49ee9313-a772-49d5-9d78-e2c04626cf64"
      },
      "id": "HafwOMNeEDxl",
      "execution_count": 16,
      "outputs": [
        {
          "output_type": "stream",
          "name": "stdout",
          "text": [
            "Looking in indexes: https://pypi.org/simple, https://us-python.pkg.dev/colab-wheels/public/simple/\n",
            "Requirement already satisfied: gdown==4.6.0 in /usr/local/lib/python3.8/dist-packages (4.6.0)\n",
            "Requirement already satisfied: filelock in /usr/local/lib/python3.8/dist-packages (from gdown==4.6.0) (3.8.0)\n",
            "Requirement already satisfied: requests[socks] in /usr/local/lib/python3.8/dist-packages (from gdown==4.6.0) (2.23.0)\n",
            "Requirement already satisfied: six in /usr/local/lib/python3.8/dist-packages (from gdown==4.6.0) (1.15.0)\n",
            "Requirement already satisfied: beautifulsoup4 in /usr/local/lib/python3.8/dist-packages (from gdown==4.6.0) (4.6.3)\n",
            "Requirement already satisfied: tqdm in /usr/local/lib/python3.8/dist-packages (from gdown==4.6.0) (4.64.1)\n",
            "Requirement already satisfied: certifi>=2017.4.17 in /usr/local/lib/python3.8/dist-packages (from requests[socks]->gdown==4.6.0) (2022.9.24)\n",
            "Requirement already satisfied: urllib3!=1.25.0,!=1.25.1,<1.26,>=1.21.1 in /usr/local/lib/python3.8/dist-packages (from requests[socks]->gdown==4.6.0) (1.24.3)\n",
            "Requirement already satisfied: idna<3,>=2.5 in /usr/local/lib/python3.8/dist-packages (from requests[socks]->gdown==4.6.0) (2.10)\n",
            "Requirement already satisfied: chardet<4,>=3.0.2 in /usr/local/lib/python3.8/dist-packages (from requests[socks]->gdown==4.6.0) (3.0.4)\n",
            "Requirement already satisfied: PySocks!=1.5.7,>=1.5.6 in /usr/local/lib/python3.8/dist-packages (from requests[socks]->gdown==4.6.0) (1.7.1)\n",
            "Looking in indexes: https://pypi.org/simple, https://us-python.pkg.dev/colab-wheels/public/simple/\n",
            "Requirement already satisfied: gdown in /usr/local/lib/python3.8/dist-packages (4.6.0)\n",
            "Requirement already satisfied: tqdm in /usr/local/lib/python3.8/dist-packages (from gdown) (4.64.1)\n",
            "Requirement already satisfied: filelock in /usr/local/lib/python3.8/dist-packages (from gdown) (3.8.0)\n",
            "Requirement already satisfied: beautifulsoup4 in /usr/local/lib/python3.8/dist-packages (from gdown) (4.6.3)\n",
            "Requirement already satisfied: requests[socks] in /usr/local/lib/python3.8/dist-packages (from gdown) (2.23.0)\n",
            "Requirement already satisfied: six in /usr/local/lib/python3.8/dist-packages (from gdown) (1.15.0)\n",
            "Requirement already satisfied: certifi>=2017.4.17 in /usr/local/lib/python3.8/dist-packages (from requests[socks]->gdown) (2022.9.24)\n",
            "Requirement already satisfied: chardet<4,>=3.0.2 in /usr/local/lib/python3.8/dist-packages (from requests[socks]->gdown) (3.0.4)\n",
            "Requirement already satisfied: urllib3!=1.25.0,!=1.25.1,<1.26,>=1.21.1 in /usr/local/lib/python3.8/dist-packages (from requests[socks]->gdown) (1.24.3)\n",
            "Requirement already satisfied: idna<3,>=2.5 in /usr/local/lib/python3.8/dist-packages (from requests[socks]->gdown) (2.10)\n",
            "Requirement already satisfied: PySocks!=1.5.7,>=1.5.6 in /usr/local/lib/python3.8/dist-packages (from requests[socks]->gdown) (1.7.1)\n",
            "Downloading...\n",
            "From: https://drive.google.com/uc?id=1Uu3JPyscmPX_QIqmaEKeu9oXaN1nSXud\n",
            "To: /content/model.zip\n",
            "100% 691k/691k [00:00<00:00, 107MB/s]\n"
          ]
        }
      ]
    },
    {
      "cell_type": "code",
      "execution_count": 17,
      "id": "c56d2696",
      "metadata": {
        "id": "c56d2696"
      },
      "outputs": [],
      "source": [
        "\n",
        "import numpy as np\n",
        "import matplotlib.pyplot as plt\n",
        "from keras.models import load_model\n",
        "from tensorflow.keras.preprocessing import image\n",
        "from tensorflow import keras\n",
        "from keras.models import Sequential\n",
        "from keras.layers import Conv2D, MaxPooling2D, Flatten, Dense, Dropout,BatchNormalization,Activation,Reshape,LSTM"
      ]
    },
    {
      "cell_type": "code",
      "source": [
        "data_zip=zipfile.ZipFile('model.zip')\n",
        "data_zip.extractall()\n",
        "data_zip.close()"
      ],
      "metadata": {
        "id": "DfJGwD62ExNf"
      },
      "id": "DfJGwD62ExNf",
      "execution_count": 18,
      "outputs": []
    },
    {
      "cell_type": "code",
      "execution_count": 19,
      "id": "0ef2e864",
      "metadata": {
        "id": "0ef2e864"
      },
      "outputs": [],
      "source": [
        "def masked_model():\n",
        "    model = Sequential()\n",
        "\n",
        "    model.add(Conv2D(128, kernel_size=5,strides=1,padding='same',input_shape=(35, 35, 3)))\n",
        "    model.add(BatchNormalization())\n",
        "    model.add(Activation('relu'))\n",
        "    model.add(MaxPooling2D(pool_size=3, strides=2, padding='same'))\n",
        "\n",
        "    model.add(Conv2D(72,kernel_size=3,strides=1,padding='same'))\n",
        "    model.add(BatchNormalization())\n",
        "    model.add(Activation('relu'))\n",
        "    model.add(MaxPooling2D(pool_size=5, strides=4, padding='same'))\n",
        "\n",
        "    model.add(Conv2D(64,kernel_size=3,strides=1,padding='same'))\n",
        "    model.add(BatchNormalization())\n",
        "    model.add(Activation('relu'))\n",
        "    model.add(MaxPooling2D(pool_size=5, strides=4, padding='same'))\n",
        "\n",
        "    model.add(Conv2D(64,kernel_size=3,strides=1,padding='same'))\n",
        "    model.add(BatchNormalization())\n",
        "    model.add(Activation('relu'))\n",
        "    model.add(MaxPooling2D(pool_size=4, strides=4, padding='same'))\n",
        "\n",
        "    model.add(Reshape((-1, 64)))\n",
        "    # LSTM\n",
        "    model.add(LSTM(32))\n",
        "    model.add(Dense(units=1, activation='sigmoid'))\n",
        "    #\n",
        "    model.summary()\n",
        "    return model"
      ]
    },
    {
      "cell_type": "code",
      "execution_count": 20,
      "id": "fdd86242",
      "metadata": {
        "colab": {
          "base_uri": "https://localhost:8080/"
        },
        "id": "fdd86242",
        "outputId": "7b4e7975-f95f-4a00-e398-beb2ebcdcc36"
      },
      "outputs": [
        {
          "output_type": "stream",
          "name": "stdout",
          "text": [
            "Model: \"sequential_2\"\n",
            "_________________________________________________________________\n",
            " Layer (type)                Output Shape              Param #   \n",
            "=================================================================\n",
            " conv2d_8 (Conv2D)           (None, 35, 35, 128)       9728      \n",
            "                                                                 \n",
            " batch_normalization_8 (Batc  (None, 35, 35, 128)      512       \n",
            " hNormalization)                                                 \n",
            "                                                                 \n",
            " activation_8 (Activation)   (None, 35, 35, 128)       0         \n",
            "                                                                 \n",
            " max_pooling2d_8 (MaxPooling  (None, 18, 18, 128)      0         \n",
            " 2D)                                                             \n",
            "                                                                 \n",
            " conv2d_9 (Conv2D)           (None, 18, 18, 72)        83016     \n",
            "                                                                 \n",
            " batch_normalization_9 (Batc  (None, 18, 18, 72)       288       \n",
            " hNormalization)                                                 \n",
            "                                                                 \n",
            " activation_9 (Activation)   (None, 18, 18, 72)        0         \n",
            "                                                                 \n",
            " max_pooling2d_9 (MaxPooling  (None, 5, 5, 72)         0         \n",
            " 2D)                                                             \n",
            "                                                                 \n",
            " conv2d_10 (Conv2D)          (None, 5, 5, 64)          41536     \n",
            "                                                                 \n",
            " batch_normalization_10 (Bat  (None, 5, 5, 64)         256       \n",
            " chNormalization)                                                \n",
            "                                                                 \n",
            " activation_10 (Activation)  (None, 5, 5, 64)          0         \n",
            "                                                                 \n",
            " max_pooling2d_10 (MaxPoolin  (None, 2, 2, 64)         0         \n",
            " g2D)                                                            \n",
            "                                                                 \n",
            " conv2d_11 (Conv2D)          (None, 2, 2, 64)          36928     \n",
            "                                                                 \n",
            " batch_normalization_11 (Bat  (None, 2, 2, 64)         256       \n",
            " chNormalization)                                                \n",
            "                                                                 \n",
            " activation_11 (Activation)  (None, 2, 2, 64)          0         \n",
            "                                                                 \n",
            " max_pooling2d_11 (MaxPoolin  (None, 1, 1, 64)         0         \n",
            " g2D)                                                            \n",
            "                                                                 \n",
            " reshape_2 (Reshape)         (None, 1, 64)             0         \n",
            "                                                                 \n",
            " lstm_2 (LSTM)               (None, 32)                12416     \n",
            "                                                                 \n",
            " dense_2 (Dense)             (None, 1)                 33        \n",
            "                                                                 \n",
            "=================================================================\n",
            "Total params: 184,969\n",
            "Trainable params: 184,313\n",
            "Non-trainable params: 656\n",
            "_________________________________________________________________\n"
          ]
        }
      ],
      "source": [
        "model = masked_model()\n",
        "model.load_weights('model/masked_detection_model.h5')"
      ]
    },
    {
      "cell_type": "code",
      "execution_count": 24,
      "id": "5992c4bc",
      "metadata": {
        "colab": {
          "base_uri": "https://localhost:8080/",
          "height": 283
        },
        "id": "5992c4bc",
        "outputId": "72130688-8cd7-4b22-ea59-0c7dc4f73f72"
      },
      "outputs": [
        {
          "output_type": "display_data",
          "data": {
            "text/plain": [
              "<Figure size 432x288 with 1 Axes>"
            ],
            "image/png": "[encoded data removed]"
          },
          "metadata": {
            "needs_background": "light"
          }
        },
        {
          "output_type": "stream",
          "name": "stdout",
          "text": [
            "1/1 [==============================] - 0s 25ms/step\n",
            "With Out Mask\n"
          ]
        }
      ],
      "source": [
        "def load_image(img_path, show=False):\n",
        "    img = image.load_img(img_path, target_size=(35, 35))\n",
        "    img_tensor = image.img_to_array(img)                    # (height, width, channels)\n",
        "    img_tensor = np.expand_dims(img_tensor, axis=0)         # (1, height, width, channels), add a dimension because the model expects this shape: (batch_size, height, width, channels)\n",
        "    img_tensor /= 255.                                      # imshow expects values in the range [0, 1]\n",
        "\n",
        "    if show:\n",
        "        plt.imshow(img_tensor[0])                           \n",
        "        plt.axis('off')\n",
        "        plt.show()\n",
        "\n",
        "    return img_tensor\n",
        "new_image = load_image('sample.jpg',True)\n",
        "predictions = model.predict(new_image)\n",
        "if predictions[0][0]<0.5:\n",
        "    print(\"With Mask\")\n",
        "else:\n",
        "    print(\"With Out Mask\")"
      ]
    },
    {
      "cell_type": "code",
      "execution_count": 6,
      "id": "05277dc5",
      "metadata": {
        "id": "05277dc5"
      },
      "outputs": [],
      "source": []
    }
  ],
  "metadata": {
    "kernelspec": {
      "display_name": "Python 3 (ipykernel)",
      "language": "python",
      "name": "python3"
    },
    "language_info": {
      "codemirror_mode": {
        "name": "ipython",
        "version": 3
      },
      "file_extension": ".py",
      "mimetype": "text/x-python",
      "name": "python",
      "nbconvert_exporter": "python",
      "pygments_lexer": "ipython3",
      "version": "3.9.5"
    },
    "colab": {
      "provenance": []
    }
  },
  "nbformat": 4,
  "nbformat_minor": 5
}